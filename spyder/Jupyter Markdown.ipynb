{
 "cells": [
  {
   "cell_type": "markdown",
   "id": "82352d24",
   "metadata": {},
   "source": [
    "## Practice Assignment 1 \n",
    "**Here is a for loop designed to print all integers between 1 and 10 inclusive.**"
   ]
  },
  {
   "cell_type": "code",
   "execution_count": 5,
   "id": "13953603",
   "metadata": {},
   "outputs": [
    {
     "name": "stdout",
     "output_type": "stream",
     "text": [
      "1\n",
      "2\n",
      "3\n",
      "4\n",
      "5\n",
      "6\n",
      "7\n",
      "8\n",
      "9\n",
      "10\n"
     ]
    }
   ],
   "source": [
    "for x in range(1,11):\n",
    "    print(x)"
   ]
  }
 ],
 "metadata": {
  "kernelspec": {
   "display_name": "Python 3",
   "language": "python",
   "name": "python3"
  },
  "language_info": {
   "codemirror_mode": {
    "name": "ipython",
    "version": 3
   },
   "file_extension": ".py",
   "mimetype": "text/x-python",
   "name": "python",
   "nbconvert_exporter": "python",
   "pygments_lexer": "ipython3",
   "version": "3.8.8"
  }
 },
 "nbformat": 4,
 "nbformat_minor": 5
}
